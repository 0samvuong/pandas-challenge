{
 "cells": [
  {
   "cell_type": "markdown",
   "metadata": {},
   "source": [
    "### Note\n",
    "* Instructions have been included for each segment. You do not have to follow them exactly, but they are included to help you think through the steps."
   ]
  },
  {
   "cell_type": "code",
   "execution_count": 125,
   "metadata": {},
   "outputs": [],
   "source": [
    "# Dependencies and Setup\n",
    "import pandas as pd\n",
    "\n",
    "# File to Load (Remember to Change These)\n",
    "file_to_load = \"Resources/purchase_data.csv\"\n",
    "\n",
    "# Read Purchasing File and store into Pandas data frame\n",
    "purchase_data = pd.read_csv(file_to_load)"
   ]
  },
  {
   "cell_type": "markdown",
   "metadata": {},
   "source": [
    "## Player Count"
   ]
  },
  {
   "cell_type": "markdown",
   "metadata": {},
   "source": [
    "* Display the total number of players\n"
   ]
  },
  {
   "cell_type": "code",
   "execution_count": 120,
   "metadata": {},
   "outputs": [
    {
     "name": "stdout",
     "output_type": "stream",
     "text": [
      "Total Player Count: 577\n"
     ]
    }
   ],
   "source": [
    "# takes the length of the list of unique players in the dataset\n",
    "\n",
    "total_players_count = len(purchase_data[\"SN\"].unique())\n",
    "print(f\"Total Player Count: {total_players_count}\")\n"
   ]
  },
  {
   "cell_type": "markdown",
   "metadata": {},
   "source": [
    "## Purchasing Analysis (Total)"
   ]
  },
  {
   "cell_type": "markdown",
   "metadata": {},
   "source": [
    "* Run basic calculations to obtain number of unique items, average price, etc.\n",
    "\n",
    "\n",
    "* Create a summary data frame to hold the results\n",
    "\n",
    "\n",
    "* Optional: give the displayed data cleaner formatting\n",
    "\n",
    "\n",
    "* Display the summary data frame\n"
   ]
  },
  {
   "cell_type": "code",
   "execution_count": 121,
   "metadata": {
    "scrolled": true
   },
   "outputs": [
    {
     "data": {
      "text/html": [
       "<div>\n",
       "<style scoped>\n",
       "    .dataframe tbody tr th:only-of-type {\n",
       "        vertical-align: middle;\n",
       "    }\n",
       "\n",
       "    .dataframe tbody tr th {\n",
       "        vertical-align: top;\n",
       "    }\n",
       "\n",
       "    .dataframe thead th {\n",
       "        text-align: right;\n",
       "    }\n",
       "</style>\n",
       "<table border=\"1\" class=\"dataframe\">\n",
       "  <thead>\n",
       "    <tr style=\"text-align: right;\">\n",
       "      <th></th>\n",
       "      <th>Number of Unique Items</th>\n",
       "      <th>Average Price</th>\n",
       "      <th>Number of Purchases</th>\n",
       "      <th>Total Revenue</th>\n",
       "    </tr>\n",
       "  </thead>\n",
       "  <tbody>\n",
       "    <tr>\n",
       "      <th>0</th>\n",
       "      <td>180</td>\n",
       "      <td>$3.05</td>\n",
       "      <td>781</td>\n",
       "      <td>$2379.77</td>\n",
       "    </tr>\n",
       "  </tbody>\n",
       "</table>\n",
       "</div>"
      ],
      "text/plain": [
       "   Number of Unique Items Average Price  Number of Purchases Total Revenue\n",
       "0                     180         $3.05                  781      $2379.77"
      ]
     },
     "execution_count": 121,
     "metadata": {},
     "output_type": "execute_result"
    }
   ],
   "source": [
    "# takes the length of the list of unique items in the dataset\n",
    "unique_item_count = len(purchase_data[\"Item ID\"].unique())\n",
    "average_price = purchase_data[\"Price\"].mean()\n",
    "number_of_purchases = len(purchase_data[\"Purchase ID\"].unique())\n",
    "total_revenue = purchase_data[\"Price\"].sum()\n",
    "\n",
    "summary_pa_df = pd.DataFrame({\n",
    "\n",
    "    \"Number of Unique Items\" : [unique_item_count],\n",
    "    \"Average Price\" : average_price,\n",
    "    \"Number of Purchases\" : number_of_purchases,\n",
    "    \"Total Revenue\" : total_revenue\n",
    "})\n",
    "\n",
    "#formatting\n",
    "summary_pa_df[\"Average Price\"] = summary_pa_df[\"Average Price\"].map(\"${:.2f}\".format)\n",
    "summary_pa_df[\"Total Revenue\"] = summary_pa_df[\"Total Revenue\"].map(\"${:.2f}\".format)\n",
    "\n",
    "summary_pa_df"
   ]
  },
  {
   "cell_type": "markdown",
   "metadata": {},
   "source": [
    "## Gender Demographics"
   ]
  },
  {
   "cell_type": "markdown",
   "metadata": {},
   "source": [
    "* Percentage and Count of Male Players\n",
    "\n",
    "\n",
    "* Percentage and Count of Female Players\n",
    "\n",
    "\n",
    "* Percentage and Count of Other / Non-Disclosed\n",
    "\n",
    "\n"
   ]
  },
  {
   "cell_type": "code",
   "execution_count": 122,
   "metadata": {},
   "outputs": [
    {
     "data": {
      "text/html": [
       "<div>\n",
       "<style scoped>\n",
       "    .dataframe tbody tr th:only-of-type {\n",
       "        vertical-align: middle;\n",
       "    }\n",
       "\n",
       "    .dataframe tbody tr th {\n",
       "        vertical-align: top;\n",
       "    }\n",
       "\n",
       "    .dataframe thead th {\n",
       "        text-align: right;\n",
       "    }\n",
       "</style>\n",
       "<table border=\"1\" class=\"dataframe\">\n",
       "  <thead>\n",
       "    <tr style=\"text-align: right;\">\n",
       "      <th></th>\n",
       "      <th>Total Count</th>\n",
       "      <th>Percentage of Players</th>\n",
       "    </tr>\n",
       "  </thead>\n",
       "  <tbody>\n",
       "    <tr>\n",
       "      <th>Male</th>\n",
       "      <td>484</td>\n",
       "      <td>83.88%</td>\n",
       "    </tr>\n",
       "    <tr>\n",
       "      <th>Female</th>\n",
       "      <td>81</td>\n",
       "      <td>14.04%</td>\n",
       "    </tr>\n",
       "    <tr>\n",
       "      <th>Other / Non-Disclosed</th>\n",
       "      <td>11</td>\n",
       "      <td>1.91%</td>\n",
       "    </tr>\n",
       "  </tbody>\n",
       "</table>\n",
       "</div>"
      ],
      "text/plain": [
       "                       Total Count Percentage of Players\n",
       "Male                           484                83.88%\n",
       "Female                          81                14.04%\n",
       "Other / Non-Disclosed           11                 1.91%"
      ]
     },
     "execution_count": 122,
     "metadata": {},
     "output_type": "execute_result"
    }
   ],
   "source": [
    "#make a dataframe of unique players by dropping duplicate SN's\n",
    "unique_players_list = purchase_data.drop_duplicates(subset=\"SN\")\n",
    "# Create male,female,other counts\n",
    "player_male = unique_players_list[\"Gender\"].value_counts()[\"Male\"]\n",
    "player_female = unique_players_list[\"Gender\"].value_counts()[\"Female\"]\n",
    "player_other = unique_players_list[\"Gender\"].value_counts()[\"Other / Non-Disclosed\"]\n",
    "\n",
    "#format into percentages, 2 decimal places\n",
    "p_player_male = \"{:.2%}\".format(player_male/total_players_count)\n",
    "p_player_female = \"{:.2%}\".format(player_female/total_players_count)\n",
    "p_player_other = \"{:.2%}\".format(player_other/total_players_count)\n",
    "\n",
    "gender_summary_table = {\n",
    "\n",
    "    \"Total Count\" : {\"Male\" : player_male, \"Female\" : player_female, \"Other / Non-Disclosed\" : player_other},\n",
    "    \"Percentage of Players\" : {\"Male\" : p_player_male, \"Female\" : p_player_female, \"Other / Non-Disclosed\" : p_player_other}\n",
    "\n",
    "}\n",
    "#summary table\n",
    "\n",
    "gender_summary_df = pd.DataFrame(gender_summary_table)\n",
    "\n",
    "gender_summary_df\n"
   ]
  },
  {
   "cell_type": "markdown",
   "metadata": {},
   "source": [
    "\n",
    "## Purchasing Analysis (Gender)"
   ]
  },
  {
   "cell_type": "markdown",
   "metadata": {},
   "source": [
    "* Run basic calculations to obtain purchase count, avg. purchase price, avg. purchase total per person etc. by gender\n",
    "\n",
    "\n",
    "\n",
    "\n",
    "* Create a summary data frame to hold the results\n",
    "\n",
    "\n",
    "* Optional: give the displayed data cleaner formatting\n",
    "\n",
    "\n",
    "* Display the summary data frame"
   ]
  },
  {
   "cell_type": "code",
   "execution_count": 123,
   "metadata": {},
   "outputs": [
    {
     "data": {
      "text/html": [
       "<style type=\"text/css\">\n",
       "</style>\n",
       "<table id=\"T_f097e_\">\n",
       "  <thead>\n",
       "    <tr>\n",
       "      <th class=\"col_heading level0 col0\" >Gender</th>\n",
       "      <th class=\"col_heading level0 col1\" >Purchase Count</th>\n",
       "      <th class=\"col_heading level0 col2\" >Average Purchase Price</th>\n",
       "      <th class=\"col_heading level0 col3\" >Total Purchase Value</th>\n",
       "      <th class=\"col_heading level0 col4\" >Avg Total Purchase per Person</th>\n",
       "    </tr>\n",
       "  </thead>\n",
       "  <tbody>\n",
       "    <tr>\n",
       "      <td id=\"T_f097e_row0_col0\" class=\"data row0 col0\" >Female</td>\n",
       "      <td id=\"T_f097e_row0_col1\" class=\"data row0 col1\" >113</td>\n",
       "      <td id=\"T_f097e_row0_col2\" class=\"data row0 col2\" >$3.20</td>\n",
       "      <td id=\"T_f097e_row0_col3\" class=\"data row0 col3\" >$361.94</td>\n",
       "      <td id=\"T_f097e_row0_col4\" class=\"data row0 col4\" >$4.47</td>\n",
       "    </tr>\n",
       "    <tr>\n",
       "      <td id=\"T_f097e_row1_col0\" class=\"data row1 col0\" >Male</td>\n",
       "      <td id=\"T_f097e_row1_col1\" class=\"data row1 col1\" >652</td>\n",
       "      <td id=\"T_f097e_row1_col2\" class=\"data row1 col2\" >$3.02</td>\n",
       "      <td id=\"T_f097e_row1_col3\" class=\"data row1 col3\" >$1967.64</td>\n",
       "      <td id=\"T_f097e_row1_col4\" class=\"data row1 col4\" >$4.07</td>\n",
       "    </tr>\n",
       "    <tr>\n",
       "      <td id=\"T_f097e_row2_col0\" class=\"data row2 col0\" >Other / Non-Disclosed</td>\n",
       "      <td id=\"T_f097e_row2_col1\" class=\"data row2 col1\" >15</td>\n",
       "      <td id=\"T_f097e_row2_col2\" class=\"data row2 col2\" >$3.35</td>\n",
       "      <td id=\"T_f097e_row2_col3\" class=\"data row2 col3\" >$50.19</td>\n",
       "      <td id=\"T_f097e_row2_col4\" class=\"data row2 col4\" >$4.56</td>\n",
       "    </tr>\n",
       "  </tbody>\n",
       "</table>\n"
      ],
      "text/plain": [
       "<pandas.io.formats.style.Styler at 0x26be4bd43c8>"
      ]
     },
     "execution_count": 123,
     "metadata": {},
     "output_type": "execute_result"
    }
   ],
   "source": [
    "# Variables - data frame of each gender\n",
    "purchases_male = purchase_data[purchase_data[\"Gender\"] == \"Male\"]\n",
    "purchases_female = purchase_data[purchase_data[\"Gender\"] == \"Female\"]\n",
    "purchases_other = purchase_data[purchase_data[\"Gender\"] == \"Other / Non-Disclosed\"]\n",
    "\n",
    "#purchase count\n",
    "pc_male =  purchases_male[\"Purchase ID\"].count()\n",
    "pc_female =  purchases_female[\"Purchase ID\"].count()\n",
    "pc_other = purchases_other[\"Purchase ID\"].count()\n",
    "\n",
    "#Average purchase price\n",
    "mean_pp_male = purchases_male[\"Price\"].mean()\n",
    "mean_pp_female = purchases_female[\"Price\"].mean()\n",
    "mean_pp_other = purchases_other[\"Price\"].mean()\n",
    "\n",
    "#total purchase value\n",
    "total_pv_male = purchases_male[\"Price\"].sum()\n",
    "total_pv_female = purchases_female[\"Price\"].sum()\n",
    "total_pv_other = purchases_other[\"Price\"].sum()\n",
    "\n",
    "#grouped by SN, then find the average of the sum of all purchases\n",
    "grouped_sn_male = purchases_male.groupby(by=\"SN\")[\"Price\"].sum().mean()\n",
    "grouped_sn_female = purchases_female.groupby(by=\"SN\")[\"Price\"].sum().mean()\n",
    "grouped_sn_other = purchases_other.groupby(by=\"SN\")[\"Price\"].sum().mean()\n",
    "\n",
    "pa_gender_table = {\n",
    "\n",
    "    \"Gender\" : [\"Female\", \"Male\", \"Other / Non-Disclosed\"],\n",
    "    \"Purchase Count\" : [pc_female,pc_male,pc_other],\n",
    "    \"Average Purchase Price\" : [mean_pp_female,mean_pp_male,mean_pp_other],\n",
    "    \"Total Purchase Value\" : [total_pv_female,total_pv_male,total_pv_other],\n",
    "    \"Avg Total Purchase per Person\" : [grouped_sn_female, grouped_sn_male,grouped_sn_other]\n",
    "}\n",
    "    # \"Gender\", \"Purchase Count\", \"Average Purchase Price\", \"Total Purchase Value\", \"Avg Total Purchase per Person\"\n",
    "pa_gender_summary = pd.DataFrame(pa_gender_table)\n",
    "\n",
    "# formatting\n",
    "pa_gender_summary[\"Average Purchase Price\"] = pa_gender_summary[\"Average Purchase Price\"].map(\"${:.2f}\".format)\n",
    "pa_gender_summary[\"Total Purchase Value\"] = pa_gender_summary[\"Total Purchase Value\"].map(\"${:.2f}\".format)\n",
    "pa_gender_summary[\"Avg Total Purchase per Person\"] = pa_gender_summary[\"Avg Total Purchase per Person\"].map(\"${:.2f}\".format)\n",
    "#print and hide index\n",
    "pa_gender_summary.style.hide_index()\n"
   ]
  },
  {
   "cell_type": "markdown",
   "metadata": {},
   "source": [
    "## Age Demographics"
   ]
  },
  {
   "cell_type": "markdown",
   "metadata": {},
   "source": [
    "* Establish bins for ages\n",
    "\n",
    "\n",
    "* Categorize the existing players using the age bins. Hint: use pd.cut()\n",
    "\n",
    "\n",
    "* Calculate the numbers and percentages by age group\n",
    "\n",
    "\n",
    "* Create a summary data frame to hold the results\n",
    "\n",
    "\n",
    "* Optional: round the percentage column to two decimal points\n",
    "\n",
    "\n",
    "* Display Age Demographics Table\n"
   ]
  },
  {
   "cell_type": "code",
   "execution_count": 216,
   "metadata": {},
   "outputs": [
    {
     "data": {
      "text/html": [
       "<div>\n",
       "<style scoped>\n",
       "    .dataframe tbody tr th:only-of-type {\n",
       "        vertical-align: middle;\n",
       "    }\n",
       "\n",
       "    .dataframe tbody tr th {\n",
       "        vertical-align: top;\n",
       "    }\n",
       "\n",
       "    .dataframe thead th {\n",
       "        text-align: right;\n",
       "    }\n",
       "</style>\n",
       "<table border=\"1\" class=\"dataframe\">\n",
       "  <thead>\n",
       "    <tr style=\"text-align: right;\">\n",
       "      <th></th>\n",
       "      <th>Total Count</th>\n",
       "      <th>Percentage of Players</th>\n",
       "    </tr>\n",
       "    <tr>\n",
       "      <th>Age Ranges</th>\n",
       "      <th></th>\n",
       "      <th></th>\n",
       "    </tr>\n",
       "  </thead>\n",
       "  <tbody>\n",
       "    <tr>\n",
       "      <th>&lt; 10</th>\n",
       "      <td>17</td>\n",
       "      <td>2.95%</td>\n",
       "    </tr>\n",
       "    <tr>\n",
       "      <th>10-14</th>\n",
       "      <td>22</td>\n",
       "      <td>3.81%</td>\n",
       "    </tr>\n",
       "    <tr>\n",
       "      <th>15-19</th>\n",
       "      <td>107</td>\n",
       "      <td>18.54%</td>\n",
       "    </tr>\n",
       "    <tr>\n",
       "      <th>20-24</th>\n",
       "      <td>258</td>\n",
       "      <td>44.71%</td>\n",
       "    </tr>\n",
       "    <tr>\n",
       "      <th>25-29</th>\n",
       "      <td>77</td>\n",
       "      <td>13.34%</td>\n",
       "    </tr>\n",
       "    <tr>\n",
       "      <th>30-34</th>\n",
       "      <td>52</td>\n",
       "      <td>9.01%</td>\n",
       "    </tr>\n",
       "    <tr>\n",
       "      <th>35-39</th>\n",
       "      <td>31</td>\n",
       "      <td>5.37%</td>\n",
       "    </tr>\n",
       "    <tr>\n",
       "      <th>40 +</th>\n",
       "      <td>12</td>\n",
       "      <td>2.08%</td>\n",
       "    </tr>\n",
       "  </tbody>\n",
       "</table>\n",
       "</div>"
      ],
      "text/plain": [
       "            Total Count Percentage of Players\n",
       "Age Ranges                                   \n",
       "< 10                 17                 2.95%\n",
       "10-14                22                 3.81%\n",
       "15-19               107                18.54%\n",
       "20-24               258                44.71%\n",
       "25-29                77                13.34%\n",
       "30-34                52                 9.01%\n",
       "35-39                31                 5.37%\n",
       "40 +                 12                 2.08%"
      ]
     },
     "execution_count": 216,
     "metadata": {},
     "output_type": "execute_result"
    }
   ],
   "source": [
    "#creating bins\n",
    "age_group_names = [\"< 10\", \"10-14\", \"15-19\", \"20-24\", \"25-29\", \"30-34\", \"35-39\", \"40 +\"]\n",
    "age_group_bins = [0,9,14,19,24,29,34,39,200]\n",
    "\n",
    "\n",
    "# create bins out of the unique players DF\n",
    "unique_players_list[\"Age Ranges\"] = pd.cut(unique_players_list[\"Age\"],age_group_bins,labels=age_group_names,include_lowest=True)\n",
    "\n",
    "#counts number of users in group with group by\n",
    "grouped_table = unique_players_list.groupby(\"Age Ranges\").count()\n",
    "\n",
    "#create summary age demo table, the age column is effectively a count of all users in that age group\n",
    "grouped_table[\"Total Count\"] = grouped_table[\"Age\"]\n",
    "grouped_table[\"Percentage of Players\"] = grouped_table[\"Age\"] / total_players_count\n",
    "\n",
    "#summary table consisting of count and percentage\n",
    "summary_age_demo_df = pd.DataFrame(grouped_table[[\"Total Count\", \"Percentage of Players\"]])\n",
    "#formatting percentage column\n",
    "summary_age_demo_df[\"Percentage of Players\"] = summary_age_demo_df[\"Percentage of Players\"].map(\"{:.2%}\".format)\n",
    "summary_age_demo_df\n",
    "\n",
    "\n",
    "\n"
   ]
  },
  {
   "cell_type": "markdown",
   "metadata": {},
   "source": [
    "## Purchasing Analysis (Age)"
   ]
  },
  {
   "cell_type": "markdown",
   "metadata": {},
   "source": [
    "* Bin the purchase_data data frame by age\n",
    "\n",
    "\n",
    "* Run basic calculations to obtain purchase count, avg. purchase price, avg. purchase total per person etc. in the table below\n",
    "\n",
    "\n",
    "* Create a summary data frame to hold the results\n",
    "\n",
    "\n",
    "* Optional: give the displayed data cleaner formatting\n",
    "\n",
    "\n",
    "* Display the summary data frame"
   ]
  },
  {
   "cell_type": "code",
   "execution_count": null,
   "metadata": {},
   "outputs": [],
   "source": []
  },
  {
   "cell_type": "markdown",
   "metadata": {},
   "source": [
    "## Top Spenders"
   ]
  },
  {
   "cell_type": "markdown",
   "metadata": {},
   "source": [
    "* Run basic calculations to obtain the results in the table below\n",
    "\n",
    "\n",
    "* Create a summary data frame to hold the results\n",
    "\n",
    "\n",
    "* Sort the total purchase value column in descending order\n",
    "\n",
    "\n",
    "* Optional: give the displayed data cleaner formatting\n",
    "\n",
    "\n",
    "* Display a preview of the summary data frame\n",
    "\n"
   ]
  },
  {
   "cell_type": "code",
   "execution_count": null,
   "metadata": {},
   "outputs": [],
   "source": []
  },
  {
   "cell_type": "markdown",
   "metadata": {},
   "source": [
    "## Most Popular Items"
   ]
  },
  {
   "cell_type": "markdown",
   "metadata": {},
   "source": [
    "* Retrieve the Item ID, Item Name, and Item Price columns\n",
    "\n",
    "\n",
    "* Group by Item ID and Item Name. Perform calculations to obtain purchase count, item price, and total purchase value\n",
    "\n",
    "\n",
    "* Create a summary data frame to hold the results\n",
    "\n",
    "\n",
    "* Sort the purchase count column in descending order\n",
    "\n",
    "\n",
    "* Optional: give the displayed data cleaner formatting\n",
    "\n",
    "\n",
    "* Display a preview of the summary data frame\n",
    "\n"
   ]
  },
  {
   "cell_type": "code",
   "execution_count": null,
   "metadata": {},
   "outputs": [],
   "source": []
  },
  {
   "cell_type": "markdown",
   "metadata": {},
   "source": [
    "## Most Profitable Items"
   ]
  },
  {
   "cell_type": "markdown",
   "metadata": {},
   "source": [
    "* Sort the above table by total purchase value in descending order\n",
    "\n",
    "\n",
    "* Optional: give the displayed data cleaner formatting\n",
    "\n",
    "\n",
    "* Display a preview of the data frame\n",
    "\n"
   ]
  },
  {
   "cell_type": "code",
   "execution_count": null,
   "metadata": {
    "scrolled": true
   },
   "outputs": [],
   "source": []
  }
 ],
 "metadata": {
  "anaconda-cloud": {},
  "kernel_info": {
   "name": "python3"
  },
  "kernelspec": {
   "display_name": "Python 3",
   "language": "python",
   "name": "python3"
  },
  "language_info": {
   "codemirror_mode": {
    "name": "ipython",
    "version": 3
   },
   "file_extension": ".py",
   "mimetype": "text/x-python",
   "name": "python",
   "nbconvert_exporter": "python",
   "pygments_lexer": "ipython3",
   "version": "3.7.6"
  },
  "latex_envs": {
   "LaTeX_envs_menu_present": true,
   "autoclose": false,
   "autocomplete": true,
   "bibliofile": "biblio.bib",
   "cite_by": "apalike",
   "current_citInitial": 1,
   "eqLabelWithNumbers": true,
   "eqNumInitial": 1,
   "hotkeys": {
    "equation": "Ctrl-E",
    "itemize": "Ctrl-I"
   },
   "labels_anchors": false,
   "latex_user_defs": false,
   "report_style_numbering": false,
   "user_envs_cfg": false
  },
  "nteract": {
   "version": "0.2.0"
  }
 },
 "nbformat": 4,
 "nbformat_minor": 2
}
